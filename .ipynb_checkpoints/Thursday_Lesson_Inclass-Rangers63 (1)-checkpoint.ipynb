{
 "cells": [
  {
   "cell_type": "markdown",
   "metadata": {},
   "source": [
    "# Object-Oriented-Programming (OOP)"
   ]
  },
  {
   "cell_type": "markdown",
   "metadata": {},
   "source": [
    "## Tasks Today:\n",
    "\n",
    "   \n",
    "\n",
    "1) <b>Creating a Class (Initializing/Declaring)</b> <br>\n",
    "2) <b>Using a Class (Instantiating)</b> <br>\n",
    " &nbsp;&nbsp;&nbsp;&nbsp; a) Creating One Instance <br>\n",
    " &nbsp;&nbsp;&nbsp;&nbsp; b) Creating Multiple Instances <br>\n",
    " &nbsp;&nbsp;&nbsp;&nbsp; c) In-Class Exercise #1 - Create a Class 'Car' and instantiate three different makes of cars <br>\n",
    "3) <b>The \\__init\\__() Method</b> <br>\n",
    " &nbsp;&nbsp;&nbsp;&nbsp; a) The 'self' Attribute <br>\n",
    "4) <b>Class Attributes</b> <br>\n",
    " &nbsp;&nbsp;&nbsp;&nbsp; a) Initializing Attributes <br>\n",
    " &nbsp;&nbsp;&nbsp;&nbsp; b) Setting an Attribute Outside of the \\__init\\__() Method <br>\n",
    " &nbsp;&nbsp;&nbsp;&nbsp; c) Setting Defaults for Attributes <br>\n",
    " &nbsp;&nbsp;&nbsp;&nbsp; d) Accessing Class Attributes <br>\n",
    " &nbsp;&nbsp;&nbsp;&nbsp; e) Changing Class Attributes <br>\n",
    " &nbsp;&nbsp;&nbsp;&nbsp; f) In-Class Exercise #2 - Add a color and wheels attribute to your 'Car' class <br>\n",
    "5) <b>Class Methods</b> <br>\n",
    " &nbsp;&nbsp;&nbsp;&nbsp; a) Creating <br>\n",
    " &nbsp;&nbsp;&nbsp;&nbsp; b) Calling <br>\n",
    " &nbsp;&nbsp;&nbsp;&nbsp; c) Modifying an Attribute's Value Through a Method <br>\n",
    " &nbsp;&nbsp;&nbsp;&nbsp; d) Incrementing an Attribute's Value Through a Method <br>\n",
    " &nbsp;&nbsp;&nbsp;&nbsp; e) In-Class Exercise #3 - Add a method that prints the cars color and wheel number, then call them <br>\n",
    "6) <b>Inheritance</b> <br>\n",
    " &nbsp;&nbsp;&nbsp;&nbsp; a) Syntax for Inheriting from a Parent Class <br>\n",
    " &nbsp;&nbsp;&nbsp;&nbsp; b) The \\__init\\__() Method for a Child Class (super()) <br>\n",
    " &nbsp;&nbsp;&nbsp;&nbsp; c) Defining Attributes and Methods for the Child Class <br>\n",
    " &nbsp;&nbsp;&nbsp;&nbsp; d) Method Overriding <br>\n",
    " &nbsp;&nbsp;&nbsp;&nbsp; e) In-Class Exercise #4 - Create a class 'Ford' that inherits from 'Car' class and initialize it as a Blue Ford Explorer with 4 wheels using the super() method <br>\n",
    "7) <b>Classes as Attributes</b> <br>\n",
    "8) <b>Exercises</b> <br>\n",
    " &nbsp;&nbsp;&nbsp;&nbsp; a) Exercise #1 - Turn the shopping cart program from yesterday into an object-oriented program <br>"
   ]
  },
  {
   "cell_type": "markdown",
   "metadata": {},
   "source": [
    "## Creating a Class (Initializing/Declaring)\n",
    "<p>When creating a class, function, or even a variable you are initializing that object. Initializing and Declaring occur at the same time in Python, whereas in lower level languages you have to declare an object before initializing it. This is the first step in the process of using a class.</p>"
   ]
  },
  {
   "cell_type": "code",
   "execution_count": 4,
   "metadata": {},
   "outputs": [],
   "source": [
    "class Car():\n",
    "    wheels = 4\n",
    "    color = 'blue'\n",
    "    windshield_wipers='wee woo wee woo'"
   ]
  },
  {
   "cell_type": "markdown",
   "metadata": {},
   "source": [
    "## Using a Class (Instantiating)\n",
    "<p>The process of creating a class is called <i>Instantiating</i>. Each time you create a variable of that type of class, it is referred to as an <i>Instance</i> of that class. This is the second step in the process of using a class.</p>"
   ]
  },
  {
   "cell_type": "markdown",
   "metadata": {},
   "source": [
    "##### Creating One Instance"
   ]
  },
  {
   "cell_type": "code",
   "execution_count": 5,
   "metadata": {},
   "outputs": [
    {
     "name": "stdout",
     "output_type": "stream",
     "text": [
      "wee woo wee woo\n"
     ]
    }
   ],
   "source": [
    "ford = Car()\n",
    "print(ford.windshield_wipers)"
   ]
  },
  {
   "cell_type": "markdown",
   "metadata": {},
   "source": [
    "##### Creating Multiple Instances"
   ]
  },
  {
   "cell_type": "code",
   "execution_count": 6,
   "metadata": {},
   "outputs": [
    {
     "name": "stdout",
     "output_type": "stream",
     "text": [
      "<class 'str'>\n"
     ]
    }
   ],
   "source": [
    "chev=Car()\n",
    "honda=Car()\n",
    "por=Car()\n",
    "\n",
    "print(type(por.color))\n",
    "# "
   ]
  },
  {
   "cell_type": "markdown",
   "metadata": {},
   "source": [
    "##### In-Class Exercise #1 - Create a Class 'Car' and Instantiate three different makes of cars"
   ]
  },
  {
   "cell_type": "code",
   "execution_count": 8,
   "metadata": {},
   "outputs": [
    {
     "name": "stdout",
     "output_type": "stream",
     "text": [
      "gray\n",
      "4\n",
      "4\n"
     ]
    }
   ],
   "source": [
    "class Car():\n",
    "    doors=4\n",
    "    color='gray'\n",
    "    wheels=4\n",
    "    \n",
    "car_1=Car()\n",
    "car_2=Car()\n",
    "car_3=Car()\n",
    "\n",
    "print(car_1.color)\n",
    "print(car_2.wheels)\n",
    "print(car_3.doors)"
   ]
  },
  {
   "cell_type": "markdown",
   "metadata": {},
   "source": [
    "## The \\__init\\__() Method <br>\n",
    "<p>This method is used in almost every created class, and called only once upon the creation of the class instance. This method will initialize all variables needed for the object.</p>"
   ]
  },
  {
   "cell_type": "code",
   "execution_count": 14,
   "metadata": {},
   "outputs": [
    {
     "name": "stdout",
     "output_type": "stream",
     "text": [
      "black\n",
      "blue\n",
      "4\n",
      "6\n"
     ]
    }
   ],
   "source": [
    "class Carl():\n",
    "    engine= '4.7L' #Global within class, any method can call up this variable\n",
    "    \n",
    "    def __init__ (self,color, wheels): #double underscore, 'dunder'\n",
    "        self.color=color\n",
    "        self.wheels=wheels #globals are difficult to change case by case, self allows variance of different class instances\n",
    "            #Have to have the self\n",
    "            \n",
    "mazda=Carl('black',4)\n",
    "sub=Carl('blue',6)\n",
    "print(mazda.color)\n",
    "print(sub.color)\n",
    "print(mazda.wheels)\n",
    "print(sub.wheels)"
   ]
  },
  {
   "cell_type": "markdown",
   "metadata": {},
   "source": [
    "##### The 'self' Attribute <br>\n",
    "<p>This attribute is required to keep track of specific instance's attributes. Without the self attribute, the program would not know how to reference or keep track of an instance's attributes.</p>"
   ]
  },
  {
   "cell_type": "code",
   "execution_count": null,
   "metadata": {},
   "outputs": [],
   "source": [
    "# see above"
   ]
  },
  {
   "cell_type": "markdown",
   "metadata": {},
   "source": [
    "## Class Attributes <br>\n",
    "<p>While variables are inside of a class, they are referred to as attributes and not variables. When someone says 'attribute' you know they're speaking about a class. Attributes can be initialized through the init method, or outside of it.</p>"
   ]
  },
  {
   "cell_type": "markdown",
   "metadata": {},
   "source": [
    "##### Initializing Attributes"
   ]
  },
  {
   "cell_type": "code",
   "execution_count": 16,
   "metadata": {},
   "outputs": [],
   "source": [
    "# see above\n",
    "\n",
    "class Toy():\n",
    "    kind='car' #constant\n",
    "    \n",
    "    def __init__ (self, rooftop, horn, wheels):\n",
    "        self.rooftop=rooftop #attributes\n",
    "        self.horn=horn\n",
    "        self.wheels=wheels\n",
    "        \n",
    "tonka_truck=Toy(1,1,4) #1 roof, horn, 4 wheel\n",
    "hotwheels_car=Toy(2,3,8)"
   ]
  },
  {
   "cell_type": "markdown",
   "metadata": {},
   "source": [
    "##### Accessing Class Attributes"
   ]
  },
  {
   "cell_type": "code",
   "execution_count": 21,
   "metadata": {
    "scrolled": true
   },
   "outputs": [
    {
     "data": {
      "text/plain": [
       "8"
      ]
     },
     "execution_count": 21,
     "metadata": {},
     "output_type": "execute_result"
    }
   ],
   "source": [
    "# See Above\n",
    "\n",
    "tonka_truck.rooftop\n",
    "hotwheels_car.wheels"
   ]
  },
  {
   "cell_type": "markdown",
   "metadata": {},
   "source": [
    "##### Setting Defaults for Attributes"
   ]
  },
  {
   "cell_type": "code",
   "execution_count": 22,
   "metadata": {},
   "outputs": [
    {
     "data": {
      "text/plain": [
       "'Blue'"
      ]
     },
     "execution_count": 22,
     "metadata": {},
     "output_type": "execute_result"
    }
   ],
   "source": [
    "class Car():\n",
    "    engine= '4.7L' #Constant\n",
    "    \n",
    "    def __init__ (self, wheels):\n",
    "        self.wheels=wheels\n",
    "        self.color=\"Blue\"\n",
    "        \n",
    "honda=Car(4)\n",
    "honda.color"
   ]
  },
  {
   "cell_type": "markdown",
   "metadata": {},
   "source": [
    "##### Changing Class Attributes <br>\n",
    "<p>Keep in mind there are global class attributes and then there are attributes only available to each class instance which won't effect other classes.</p>"
   ]
  },
  {
   "cell_type": "code",
   "execution_count": 23,
   "metadata": {},
   "outputs": [
    {
     "name": "stdout",
     "output_type": "stream",
     "text": [
      "Before change: Blue\n",
      "\n",
      "After change: White\n"
     ]
    }
   ],
   "source": [
    "jeep=Car(8)\n",
    "\n",
    "print (f'Before change: {jeep.color}')\n",
    "\n",
    "jeep.color=\"White\"\n",
    "\n",
    "print (f'\\nAfter change: {jeep.color}')\n"
   ]
  },
  {
   "cell_type": "code",
   "execution_count": null,
   "metadata": {},
   "outputs": [],
   "source": []
  },
  {
   "cell_type": "markdown",
   "metadata": {},
   "source": [
    "##### In-Class Exercise #2 - Add a doors and seats attribute to your 'Car' class then print out two different instances with different doors and seats"
   ]
  },
  {
   "cell_type": "code",
   "execution_count": 31,
   "metadata": {},
   "outputs": [
    {
     "name": "stdout",
     "output_type": "stream",
     "text": [
      "Limo: 8 doors, 8 seats\n",
      "Before alter honda: 4 doors, 4 seats\n",
      "After alter honda: 33 doors, 1 seats\n"
     ]
    }
   ],
   "source": [
    "\n",
    "class Car():\n",
    "    \n",
    "    def __init__(self,doors,seats = 4):\n",
    "        self.doors=doors\n",
    "        self.seats=seats\n",
    "        \n",
    "limo=Car(8,8)\n",
    "print (f'Limo: {limo.doors} doors, {limo.seats} seats')\n",
    "        \n",
    "honda=Car(4)\n",
    "print (f'Before alter honda: {honda.doors} doors, {honda.seats} seats')\n",
    "\n",
    "honda.doors=33\n",
    "honda.seats=1\n",
    "\n",
    "print (f'After alter honda: {honda.doors} doors, {honda.seats} seats')\n"
   ]
  },
  {
   "cell_type": "markdown",
   "metadata": {},
   "source": [
    "## Class Methods <br>\n",
    "<p>While inside of a class, functions are referred to as 'methods'. If you hear someone mention methods, they're speaking about classes. Methods are essentially functions, but only callable on the instances of a class.</p>"
   ]
  },
  {
   "cell_type": "markdown",
   "metadata": {},
   "source": [
    "##### Creating"
   ]
  },
  {
   "cell_type": "code",
   "execution_count": 32,
   "metadata": {},
   "outputs": [],
   "source": [
    "class ShoppingBag():\n",
    "    \"\"\"\n",
    "        Will have handles cpacity and items to place inside\n",
    "        \n",
    "        handles- expected int\n",
    "        cap - expect string/int\n",
    "        items - expect list\n",
    "    \"\"\"\n",
    "    def __init__ (self, handles, capacity, items):\n",
    "        self.handles=handles\n",
    "        self.capacity=capacity\n",
    "        self.items=items\n",
    "        \n",
    "    #Method to show items\n",
    "    def showSB(self):\n",
    "        print(\"You have items in your bag!\")\n",
    "        for i in self.items:\n",
    "            print(i)\n",
    "\n",
    "    #show capacity left\n",
    "    def showCap(self):\n",
    "            print (f'You capacity is {self.capacity}')\n",
    "\n",
    "    #add items\n",
    "    def addToSB(self):\n",
    "        product=input('What add? ')\n",
    "        self.items.append(product)\n",
    "\n",
    "    #Change cap of bag\n",
    "    def changeCap(self,capacity):\n",
    "        self.capacity=capacity\n",
    "\n",
    "    #increase cap by default amount (10)\n",
    "    def incCap(self, change_cap=10):\n",
    "        if self.capacity==isinstance(self.capacity, str):\n",
    "            print(\"We can't add that here\")\n",
    "        else:\n",
    "            self.capacity+=change_cap\n",
    "                \n",
    "                \n",
    "                \n",
    "                \n"
   ]
  },
  {
   "cell_type": "markdown",
   "metadata": {},
   "source": [
    "##### Calling"
   ]
  },
  {
   "cell_type": "code",
   "execution_count": 34,
   "metadata": {},
   "outputs": [
    {
     "name": "stdout",
     "output_type": "stream",
     "text": [
      "What do? add/show/quit add\n",
      "What add? water\n",
      "What do? add/show/quit quit\n",
      "You have items in your bag!\n",
      "water\n",
      "Thanks for shopping\n"
     ]
    }
   ],
   "source": [
    "# See Above\n",
    "\n",
    "bag=ShoppingBag(2,10,[])\n",
    "\n",
    "def run():\n",
    "    while True:\n",
    "        resp=input('What do? add/show/quit ')\n",
    "        if  resp.lower()=='quit':\n",
    "            bag.showSB()\n",
    "            print('Thanks for shopping')\n",
    "            break\n",
    "        elif resp.lower()=='add':\n",
    "            bag.addToSB()\n",
    "        elif resp.lower()=='show':\n",
    "            bag.showSB()\n",
    "        else:\n",
    "            print(\"No\")\n",
    "        \n",
    "run()"
   ]
  },
  {
   "cell_type": "code",
   "execution_count": 30,
   "metadata": {},
   "outputs": [
    {
     "name": "stdout",
     "output_type": "stream",
     "text": [
      "You capacity is 10\n",
      "cap after\n",
      "You capacity is 40\n"
     ]
    }
   ],
   "source": []
  },
  {
   "cell_type": "markdown",
   "metadata": {},
   "source": [
    "##### Modifying an Attribute's Value Through a Method"
   ]
  },
  {
   "cell_type": "code",
   "execution_count": 35,
   "metadata": {},
   "outputs": [
    {
     "name": "stdout",
     "output_type": "stream",
     "text": [
      "You capacity is 10\n",
      "cap after\n",
      "You capacity is 40\n"
     ]
    }
   ],
   "source": [
    "\n",
    "\n",
    "bag.showCap()\n",
    "print('cap after')\n",
    "bag.changeCap(40)\n",
    "bag.showCap()\n"
   ]
  },
  {
   "cell_type": "markdown",
   "metadata": {},
   "source": [
    "##### Incrementing an Attribute's Value Through a Method"
   ]
  },
  {
   "cell_type": "code",
   "execution_count": 36,
   "metadata": {},
   "outputs": [
    {
     "name": "stdout",
     "output_type": "stream",
     "text": [
      "You capacity is 40\n",
      "after inc\n",
      "You capacity is 50\n"
     ]
    }
   ],
   "source": [
    "bag.showCap()\n",
    "print('after inc')\n",
    "bag.incCap()\n",
    "bag.showCap()"
   ]
  },
  {
   "cell_type": "markdown",
   "metadata": {},
   "source": [
    "##### In-Class Exercise #3 - Add a method that takes in three parameters of year, doors and seats and prints out a formatted print statement with make, model, year, seats, and doors"
   ]
  },
  {
   "cell_type": "code",
   "execution_count": 49,
   "metadata": {},
   "outputs": [
    {
     "name": "stdout",
     "output_type": "stream",
     "text": [
      "This car is from 2019 and is a Ford Explorer and has red doors and 5 seats\n",
      "This car is from 1990 and is a Ford Explorer and has 4 doors and 4 seats\n"
     ]
    }
   ],
   "source": [
    "# Create class with 2 paramters inside of the __init__ which are make and model\n",
    "\n",
    "# Inside of the Car class create a method that has 4 parameter in total (self,year,door,seats)\n",
    "\n",
    "# Output: This car is from 2019 and is a Ford Expolorer and has 4 doors and 5 seats\n",
    "\n",
    "class Car():\n",
    "    \n",
    "    \n",
    "    def __init__ (self, make, model):\n",
    "        self.make=make\n",
    "        self.model=model\n",
    "        \n",
    "    def printer(self,year,door=4,seats=4):\n",
    "        print(f'This car is from {year} and is a {self.make} {self.model} and has {door} doors and {seats} seats')\n",
    "        # I think this is what's being asked?\n",
    "    \n",
    "ford=Car(\"Ford\",\"Explorer\")\n",
    "ford.printer(2019,\"red\",5)\n",
    "ford.printer(1990)"
   ]
  },
  {
   "cell_type": "markdown",
   "metadata": {},
   "source": [
    "## Inheritance <br>\n",
    "<p>You can create a child-parent relationship between two classes by using inheritance. What this allows you to do is have overriding methods, but also inherit traits from the parent class. Think of it as an actual parent and child, the child will inherit the parent's genes, as will the classes in OOP</p>"
   ]
  },
  {
   "cell_type": "markdown",
   "metadata": {},
   "source": [
    "##### Syntax for Inheriting from a Parent Class"
   ]
  },
  {
   "cell_type": "code",
   "execution_count": 67,
   "metadata": {},
   "outputs": [
    {
     "name": "stdout",
     "output_type": "stream",
     "text": [
      "bark\n",
      "Make a generecic sound\n",
      "9.8\n"
     ]
    },
    {
     "ename": "AttributeError",
     "evalue": "'Animal' object has no attribute 'speed'",
     "output_type": "error",
     "traceback": [
      "\u001b[1;31m---------------------------------------------------------------------------\u001b[0m",
      "\u001b[1;31mAttributeError\u001b[0m                            Traceback (most recent call last)",
      "Cell \u001b[1;32mIn[67], line 42\u001b[0m\n\u001b[0;32m     40\u001b[0m lassie\u001b[38;5;241m.\u001b[39mmakeSound()\n\u001b[0;32m     41\u001b[0m \u001b[38;5;28mprint\u001b[39m(buster\u001b[38;5;241m.\u001b[39macceleration)\n\u001b[1;32m---> 42\u001b[0m \u001b[38;5;28mprint\u001b[39m(\u001b[43mbasic_animal\u001b[49m\u001b[38;5;241;43m.\u001b[39;49m\u001b[43mspeed\u001b[49m)\n",
      "\u001b[1;31mAttributeError\u001b[0m: 'Animal' object has no attribute 'speed'"
     ]
    }
   ],
   "source": [
    "#parent\n",
    "class Animal():\n",
    "    acceleration=9.8\n",
    "    \n",
    "    def __init__ (self, name, species, legs=4):\n",
    "        self.name=name\n",
    "        self.species=species\n",
    "        self.legs=legs\n",
    "        \n",
    "        #Generic parent method - not ovveriding anything\n",
    "    def makeSound(self):\n",
    "        print('Make a generecic sound')\n",
    "            \n",
    "#Dog child\n",
    "class Dog(Animal):\n",
    "    speed=15\n",
    "    \n",
    "    def printInto(self):\n",
    "        print(f'The dog has {self.speed} mph in speed and {self.acceleration}')\n",
    "              \n",
    "#grandchild\n",
    "class Mutt(Dog):\n",
    "    color=\"Tan\"\n",
    "    \n",
    "    #override animal class using dog class to overwrite the animal init\n",
    "    def __init__(self, name, species, eye_color, legs=4):\n",
    "        Dog.__init__(self,name,species,legs)\n",
    "        self.eye_color=eye_color\n",
    "        \n",
    "    #override function\n",
    "    def makeSound(self):\n",
    "        noise=\"bark\"\n",
    "        return noise\n",
    "    \n",
    "lassie=Dog('Lassie', 'Dog')\n",
    "basic_animal= Animal('Generic Animal', 'Generic Species')\n",
    "buster=Mutt('Buster', 'Mutt', 'Brown')\n",
    "\n",
    "print(buster.makeSound())\n",
    "lassie.makeSound()\n",
    "print(buster.acceleration)\n",
    "print(basic_animal.speed)"
   ]
  },
  {
   "cell_type": "markdown",
   "metadata": {},
   "source": [
    "##### The \\__init\\__() Method for a Child Class - super()"
   ]
  },
  {
   "cell_type": "code",
   "execution_count": 69,
   "metadata": {
    "scrolled": true
   },
   "outputs": [
    {
     "name": "stdout",
     "output_type": "stream",
     "text": [
      "bark\n",
      "Make a generecic sound\n",
      "9.8\n"
     ]
    }
   ],
   "source": [
    "class Puppy(Dog):\n",
    "    color=\"black and brown\"\n",
    "    \n",
    "    #ovveride animal using dog\n",
    "    def __init__(self, name, species, eye_color, legs=4):\n",
    "        super().__init__(name,species,legs) #super is doing a lot of what Dog. did above, but goes all the way to the top\n",
    "        self.eye_color=eye_color\n",
    "        \n",
    "    #overide make sound\n",
    "    def makeSound(self):\n",
    "        noise=\"bark\"\n",
    "        return noise\n",
    "    \n",
    "    \n",
    "lassie=Dog('Lassie', 'Dog')\n",
    "basic_animal= Animal('Generic Animal', 'Generic Species')\n",
    "buster=Mutt('Buster', 'Mutt', 'Brown')\n",
    "\n",
    "print(buster.makeSound())\n",
    "lassie.makeSound()\n",
    "print(buster.acceleration)"
   ]
  },
  {
   "cell_type": "markdown",
   "metadata": {},
   "source": [
    "##### Defining Attributes and Methods for the Child Class"
   ]
  },
  {
   "cell_type": "code",
   "execution_count": 51,
   "metadata": {},
   "outputs": [],
   "source": [
    "# See Above"
   ]
  },
  {
   "cell_type": "markdown",
   "metadata": {},
   "source": [
    "##### Method Overriding"
   ]
  },
  {
   "cell_type": "code",
   "execution_count": 52,
   "metadata": {},
   "outputs": [],
   "source": [
    "# See Above"
   ]
  },
  {
   "cell_type": "markdown",
   "metadata": {},
   "source": [
    "## Classes as Attributes <br>\n",
    "<p>Classes can also be used as attributes within another class. This is useful in situations where you need to keep variables locally stored, instead of globally stored.</p>"
   ]
  },
  {
   "cell_type": "code",
   "execution_count": 71,
   "metadata": {},
   "outputs": [
    {
     "name": "stdout",
     "output_type": "stream",
     "text": [
      "20\n"
     ]
    },
    {
     "data": {
      "text/plain": [
       "'2019 Tesla Model X 20'"
      ]
     },
     "execution_count": 71,
     "metadata": {},
     "output_type": "execute_result"
    }
   ],
   "source": [
    "class Battery():\n",
    "    volts=7.8\n",
    "    def __init__ (self,cells):\n",
    "        self.cells=cells\n",
    "        \n",
    "class Car():\n",
    "    def __init__(self, year,make,model,battery):\n",
    "        self.year=year\n",
    "        self.make=make\n",
    "        self.model=model\n",
    "        self.battery=battery\n",
    "        \n",
    "    def printInfo(self):\n",
    "        return f'{self.year} {self.make} {self.model} {self.battery.cells}'\n",
    "            \n",
    "my_bat=Battery(20)\n",
    "\n",
    "tesla=Car(2019,'Tesla','Model X', my_bat)\n",
    "print(tesla.battery.cells)\n",
    "tesla.printInfo()"
   ]
  },
  {
   "cell_type": "markdown",
   "metadata": {},
   "source": [
    "# Exercises"
   ]
  },
  {
   "cell_type": "markdown",
   "metadata": {},
   "source": [
    "### Exercise 1 - Turn the shopping cart program from yesterday into an object-oriented program\n",
    "\n",
    "The comments in the cell below are there as a guide for thinking about the problem. However, if you feel a different way is best for you and your own thought process, please do what feels best for you by all means."
   ]
  },
  {
   "cell_type": "code",
   "execution_count": 21,
   "metadata": {},
   "outputs": [
    {
     "name": "stdout",
     "output_type": "stream",
     "text": [
      "These are the items in your cart:\n",
      "bread\n",
      "juice\n",
      "tomato\n",
      "vintage sports car\n",
      "leek\n",
      "Item added\n",
      "These are the items in your cart:\n",
      "bread\n",
      "juice\n",
      "tomato\n",
      "vintage sports car\n",
      "leek\n",
      "water\n",
      "Item removed\n",
      "These are the items in your cart:\n",
      "bread\n",
      "juice\n",
      "tomato\n",
      "vintage sports car\n",
      "leek\n"
     ]
    }
   ],
   "source": [
    "from IPython.display import clear_output #Will use for 'run'\n",
    "# Create a class called cart that retains items and has methods to add, remove, and show\n",
    "#pretty much we'll just map each if, elif to a function, and adding 'self.' to any instance of cart\n",
    "class Cart():\n",
    "    \n",
    "    def __init__ (self):\n",
    "        self.cart=[]\n",
    "        \n",
    "    def printCart(self):#for show and quit run\n",
    "        print(\"These are the items in your cart:\")\n",
    "        for i in self.cart:\n",
    "            print (i)\n",
    "            \n",
    "    def addItem(self, item):\n",
    "        self.cart.append(item)\n",
    "        print(\"Item added\")\n",
    "        \n",
    "    def delItem(self, item):\n",
    "        try:\n",
    "            self.cart.remove(item)\n",
    "            print(\"Item removed\")\n",
    "        except:\n",
    "            print(\"We can't find that item.\")\n",
    "                \n",
    "    def run(self): #pretty much exactly the same structure as the last, replacing if contents with function names    \n",
    "        while True:# didn't say we need this, but it's pretty easy to add it, since the structures already there almost\n",
    "            what_do=(input(\"Do you want to : Show/Add/Delete or Quit :\")).lower()\n",
    "            clear_output() \n",
    "            if(what_do==\"show\"):\n",
    "                self.printCart()\n",
    "            elif(what_do==\"add\"):\n",
    "                self.addItem(input(\"Choose item to add to cart:\"))\n",
    "            elif(what_do==\"delete\"):\n",
    "                self.delItem(input(\"Choose an item to remove:\"))\n",
    "            elif(what_do==\"quit\"):\n",
    "                self.printCart()\n",
    "                break\n",
    "            else:\n",
    "                print(\"Invalid prompt\")\n",
    "\n",
    "myCart= Cart()\n",
    "myCart.run()\n",
    "myCart.addItem(\"water\") #Quick check to make sure these calls work fine\n",
    "myCart.printCart()\n",
    "myCart.delItem(\"water\")\n",
    "myCart.printCart()\n",
    "\n",
    "    \n",
    "    \n",
    "    \n",
    "    \n",
    "    "
   ]
  },
  {
   "cell_type": "markdown",
   "metadata": {},
   "source": [
    "### Exercise 2 - Write a Python class which has two methods get_String and print_String. get_String accept a string from the user and print_String print the string in upper case"
   ]
  },
  {
   "cell_type": "code",
   "execution_count": 42,
   "metadata": {},
   "outputs": [
    {
     "name": "stdout",
     "output_type": "stream",
     "text": [
      "\n",
      "Give me a string: This is the prompt asked for\n",
      "THIS IS THE PROMPT ASKED FOR\n",
      "Give me a string: And these are siblings - Jonathan S B\n",
      "AND THESE ARE SIBLINGS - JONATHAN S B\n",
      "and these are siblings - jonathan s b\n",
      "And These Are Siblings - Jonathan S B\n",
      "aND THESE ARE SIBLINGS - jONATHAN s b\n"
     ]
    }
   ],
   "source": [
    "class StringCla():\n",
    "    def __init__(self):\n",
    "        self.strHolder= \"\" #Believe we need the dunder init for non-constant class variable\n",
    "        \n",
    "    def get_String (self):\n",
    "        self.strHolder=(input(\"Give me a string: \"))\n",
    "    \n",
    "    def print_String(self):\n",
    "        print(self.strHolder.upper())\n",
    "        \n",
    "    def print_String_L(self): #While we're here, easy additions\n",
    "        print(self.strHolder.lower())\n",
    "        \n",
    "    def print_String_T(self):\n",
    "        print(self.strHolder.title())\n",
    "    \n",
    "    def print_String_S(self):\n",
    "        print(self.strHolder.swapcase())\n",
    "        \n",
    "    def print_String_All(self):\n",
    "        self.print_String()\n",
    "        self.print_String_L()\n",
    "        self.print_String_T()\n",
    "        self.print_String_S()\n",
    "        \n",
    "        \n",
    "myStr=StringCla()\n",
    "myStr.print_String()\n",
    "myStr.get_String()\n",
    "myStr.print_String()\n",
    "\n",
    "myStr.get_String()\n",
    "myStr.print_String_All()\n"
   ]
  },
  {
   "cell_type": "code",
   "execution_count": null,
   "metadata": {},
   "outputs": [],
   "source": []
  },
  {
   "cell_type": "code",
   "execution_count": null,
   "metadata": {},
   "outputs": [],
   "source": []
  }
 ],
 "metadata": {
  "kernelspec": {
   "display_name": "Python 3 (ipykernel)",
   "language": "python",
   "name": "python3"
  },
  "language_info": {
   "codemirror_mode": {
    "name": "ipython",
    "version": 3
   },
   "file_extension": ".py",
   "mimetype": "text/x-python",
   "name": "python",
   "nbconvert_exporter": "python",
   "pygments_lexer": "ipython3",
   "version": "3.10.9"
  }
 },
 "nbformat": 4,
 "nbformat_minor": 2
}
